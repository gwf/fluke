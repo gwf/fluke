{
 "cells": [
  {
   "cell_type": "markdown",
   "metadata": {},
   "source": [
    "# Seperate Chaining\n",
    "\n",
    "## Node Class\n",
    "#### Contains 3 variables\n",
    "- key \n",
    "- value\n",
    "- hash\n",
    "\n",
    "## hashTable Class\n",
    "#### Contains x functions\n",
    "| Function name | Purpose |\n",
    "| :----------- | :------- |\n",
    "| init | Initalizes | \n",
    "| addItem | Adds an item to the hash table | \n",
    "| findItem | Finds if an item is in the hash table |\n",
    "| removeItem | Removes an item in the hash table |\n",
    "| _hash | Finds the hash number of the key |\n",
    "| Print | Prints the hashtable in a nice format |\n",
    "| Resize | Isnt done yet |"
   ]
  },
  {
   "cell_type": "code",
   "execution_count": 2,
   "metadata": {},
   "outputs": [],
   "source": [
    "class Node:\n",
    "    def __init__(self, key, value, hash):\n",
    "        self.key = key\n",
    "        self.value = value\n",
    "        self.hash = hash\n",
    "        self.next = None"
   ]
  },
  {
   "cell_type": "code",
   "execution_count": 3,
   "metadata": {},
   "outputs": [],
   "source": [
    "class hashTable():\n",
    "\n",
    "    def __init__(self):\n",
    "        self.maxLength = 8\n",
    "        self.table = [None]*self.maxLength\n",
    "    \n",
    "    def addItem(self, key, value):\n",
    "        hashedKey = self._hash(key)\n",
    "        if(self.table[hashedKey] == None):\n",
    "            self.table[hashedKey] = Node(key, value,hash(key))\n",
    "        else:\n",
    "            curNode = self.table[hashedKey]\n",
    "            while curNode.next != None:\n",
    "                #update\n",
    "                if curNode.key == key:\n",
    "                    curNode.value = value\n",
    "                    return\n",
    "                curNode = curNode.next\n",
    "            curNode.next = Node(key, value, hash(key))\n",
    "        \n",
    "    def findItem(self, key):\n",
    "        hashedKey = self._hash(key)\n",
    "        curNode = self.table[hashedKey]\n",
    "        if(curNode.key == key):\n",
    "            return curNode.value\n",
    "        while curNode.next != None:\n",
    "            if curNode.key == key:\n",
    "                return curNode.value\n",
    "            else:\n",
    "                curNode.next = curNode\n",
    "\n",
    "        print(\"The node was not found\")\n",
    "        return -1\n",
    "\n",
    "    def removeItem(self, key):\n",
    "        \n",
    "        hashedKey = self._hash(key)\n",
    "        curNode = prevNode = self.table[hashedKey]\n",
    "\n",
    "        if not curNode: return\n",
    "        if curNode.key == key:\n",
    "            self.table[hashedKey] = curNode.next\n",
    "        else:\n",
    "            curNode = curNode.next\n",
    "            while curNode:\n",
    "                if curNode.key == key:\n",
    "                    prevNode.next = curNode.next\n",
    "                    break\n",
    "                else:\n",
    "                    curNode, prevNode = curNode.next, prevNode.next\n",
    "        \n",
    "    def _hash(self, key):\n",
    "        return hash(key) % self.maxLength\n",
    "\n",
    "    def print(self):\n",
    "        for x in range(self.maxLength):\n",
    "            if(self.table[x] == None):\n",
    "                print(str(x) + \" is empty\")\n",
    "            else:\n",
    "                print(str(x) + \" contains the LL : \", end = '')\n",
    "                curNode = self.table[x]\n",
    "                while(curNode.next != None):\n",
    "                    print(str(curNode.key) + \" -------> \", end = '')\n",
    "                    curNode = curNode.next\n",
    "                if(curNode.next == None):\n",
    "                    print(str(curNode.key))\n",
    "\n",
    "\n"
   ]
  },
  {
   "cell_type": "code",
   "execution_count": 4,
   "metadata": {},
   "outputs": [
    {
     "name": "stdout",
     "output_type": "stream",
     "text": [
      "0 contains the LL : 8 -------> 8\n",
      "1 is empty\n",
      "2 is empty\n",
      "3 is empty\n",
      "4 is empty\n",
      "5 is empty\n",
      "6 is empty\n",
      "7 is empty\n",
      "0 contains the LL : 8\n",
      "1 is empty\n",
      "2 is empty\n",
      "3 is empty\n",
      "4 is empty\n",
      "5 is empty\n",
      "6 is empty\n",
      "7 is empty\n"
     ]
    },
    {
     "data": {
      "text/plain": [
       "1"
      ]
     },
     "execution_count": 4,
     "metadata": {},
     "output_type": "execute_result"
    }
   ],
   "source": [
    "#for x in range(30):\n",
    "    #obj.additem(random.randrange(20, 50),x)\n",
    "obj = hashTable()\n",
    "obj.addItem(8,1)\n",
    "obj.addItem(8,1)\n",
    "obj.print()\n",
    "obj.removeItem(8)\n",
    "obj.print()\n",
    "obj.findItem(8)"
   ]
  }
 ],
 "metadata": {
  "interpreter": {
   "hash": "31f2aee4e71d21fbe5cf8b01ff0e069b9275f58929596ceb00d14d90e3e16cd6"
  },
  "kernelspec": {
   "display_name": "Python 3.8.2 64-bit",
   "language": "python",
   "name": "python3"
  },
  "language_info": {
   "codemirror_mode": {
    "name": "ipython",
    "version": 3
   },
   "file_extension": ".py",
   "mimetype": "text/x-python",
   "name": "python",
   "nbconvert_exporter": "python",
   "pygments_lexer": "ipython3",
   "version": "3.8.5"
  },
  "orig_nbformat": 4
 },
 "nbformat": 4,
 "nbformat_minor": 2
}
